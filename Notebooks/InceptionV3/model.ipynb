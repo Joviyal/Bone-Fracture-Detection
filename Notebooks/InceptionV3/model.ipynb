{
  "nbformat": 4,
  "nbformat_minor": 0,
  "metadata": {
    "kernelspec": {
      "display_name": "Python 3",
      "language": "python",
      "name": "python3"
    },
    "language_info": {
      "codemirror_mode": {
        "name": "ipython",
        "version": 3
      },
      "file_extension": ".py",
      "mimetype": "text/x-python",
      "name": "python",
      "nbconvert_exporter": "python",
      "pygments_lexer": "ipython3",
      "version": "3.6.5"
    },
    "colab": {
      "name": "model.ipynb",
      "provenance": []
    }
  },
  "cells": [
    {
      "cell_type": "code",
      "metadata": {
        "colab": {
          "base_uri": "https://localhost:8080/"
        },
        "id": "06N4_48WjsDC",
        "outputId": "361f5d91-0cc8-471d-f44a-8fc88bbd6c39"
      },
      "source": [
        "from google.colab import drive\n",
        "drive.mount('/content/gdrive')"
      ],
      "execution_count": 1,
      "outputs": [
        {
          "output_type": "stream",
          "name": "stdout",
          "text": [
            "Drive already mounted at /content/gdrive; to attempt to forcibly remount, call drive.mount(\"/content/gdrive\", force_remount=True).\n"
          ]
        }
      ]
    },
    {
      "cell_type": "code",
      "metadata": {
        "id": "VXJJLRQDiRgL"
      },
      "source": [
        "import numpy as np\n",
        "import pandas as pd\n",
        "import matplotlib.pyplot as plt"
      ],
      "execution_count": 3,
      "outputs": []
    },
    {
      "cell_type": "code",
      "metadata": {
        "id": "WxId9dvsiRgN"
      },
      "source": [
        "import keras\n",
        "import keras.backend as k"
      ],
      "execution_count": 4,
      "outputs": []
    },
    {
      "cell_type": "code",
      "metadata": {
        "id": "9ucHZDc0iRgO"
      },
      "source": [
        "import cv2\n",
        "%matplotlib inline\n",
        "import warnings\n",
        "warnings.filterwarnings('ignore')"
      ],
      "execution_count": 5,
      "outputs": []
    },
    {
      "cell_type": "code",
      "metadata": {
        "colab": {
          "base_uri": "https://localhost:8080/"
        },
        "id": "p6OavjZtkLUa",
        "outputId": "753f32fa-c1f4-44c4-93c7-02a01e3083fd"
      },
      "source": [
        "%cd /content/gdrive/MyDrive/Colab Notebooks/Bone fracture/MURA-v1.1"
      ],
      "execution_count": 9,
      "outputs": [
        {
          "output_type": "stream",
          "name": "stdout",
          "text": [
            "/content/gdrive/MyDrive/Colab Notebooks/Bone fracture/MURA-v1.1\n"
          ]
        }
      ]
    },
    {
      "cell_type": "code",
      "metadata": {
        "colab": {
          "base_uri": "https://localhost:8080/"
        },
        "id": "ZOWXBbkxkN4p",
        "outputId": "a6d74520-45a8-4ba8-917a-a18c523b07f0"
      },
      "source": [
        "!pwd"
      ],
      "execution_count": 10,
      "outputs": [
        {
          "output_type": "stream",
          "name": "stdout",
          "text": [
            "/content/gdrive/MyDrive/Colab Notebooks/Bone fracture/MURA-v1.1\n"
          ]
        }
      ]
    },
    {
      "cell_type": "code",
      "metadata": {
        "id": "FIUbQFn0iRgP"
      },
      "source": [
        "PATH=\"/content/gdrive/MyDrive/Colab Notebooks/Bone fracture/\""
      ],
      "execution_count": 47,
      "outputs": []
    },
    {
      "cell_type": "code",
      "metadata": {
        "id": "nhKHzk0QiRgP"
      },
      "source": [
        "train_imgs_path=pd.read_csv(PATH+'Stanford-MURA-master/train_image_paths.csv')\n",
        "train_labels=pd.read_csv(PATH+'Stanford-MURA-master/train_labeled_studies.csv')\n",
        "test_imgs_path=pd.read_csv(PATH+'Stanford-MURA-master/valid_image_paths.csv')\n",
        "test_labels=pd.read_csv(PATH+'Stanford-MURA-master/valid_labeled_studies.csv')\n"
      ],
      "execution_count": 48,
      "outputs": []
    },
    {
      "cell_type": "code",
      "metadata": {
        "id": "_UVIF4jgiRgP"
      },
      "source": [
        "train_labels['Body_Part']=train_labels['Img_Path'].apply(lambda x: str(x.split('/')[2])[3:])\n",
        "train_labels['Study_Type']=train_labels['Img_Path'].apply(lambda x: str(x.split('/')[4])[:6])\n",
        "test_labels['Body_Part']=test_labels['Img_Path'].apply(lambda x: str(x.split('/')[2])[3:])\n",
        "test_labels['Study_Type']=test_labels['Img_Path'].apply(lambda x: str(x.split('/')[4])[:6])"
      ],
      "execution_count": 49,
      "outputs": []
    },
    {
      "cell_type": "code",
      "metadata": {
        "id": "tPJzDHCOiRgQ"
      },
      "source": [
        "def read_image(Path):\n",
        "    img=cv2.imread(Path)\n",
        "    #img=cv2.cvtColor(img,cv2.COLOR_BGR2GRAY)\n",
        "    img=cv2.resize(img,(224,224))\n",
        "    #print (img.shape)\n",
        "    img=np.array(img)\n",
        "    #img=np.resize(img,(224,224))\n",
        "    #print (img.shape)\n",
        "    img=img/255.\n",
        "    return img"
      ],
      "execution_count": 50,
      "outputs": []
    },
    {
      "cell_type": "code",
      "metadata": {
        "id": "CGeT0GNaiRgQ"
      },
      "source": [
        "from keras.preprocessing.image import ImageDataGenerator\n",
        "from keras.applications.vgg16 import VGG16,preprocess_input,decode_predictions"
      ],
      "execution_count": 51,
      "outputs": []
    },
    {
      "cell_type": "code",
      "metadata": {
        "id": "23syrUYLiRgR"
      },
      "source": [
        "IMG_SIZE=(224,224)"
      ],
      "execution_count": 52,
      "outputs": []
    },
    {
      "cell_type": "code",
      "metadata": {
        "id": "b1_5v4TiiRgR"
      },
      "source": [
        "train_datagen=ImageDataGenerator(\n",
        "    horizontal_flip=True,\n",
        "    vertical_flip=True,\n",
        "    rotation_range=30,\n",
        "    fill_mode='nearest',\n",
        "    preprocessing_function=preprocess_input,\n",
        ")"
      ],
      "execution_count": 53,
      "outputs": []
    },
    {
      "cell_type": "code",
      "metadata": {
        "id": "K__xiCnziRgS"
      },
      "source": [
        "test_datagen = ImageDataGenerator(rescale=1./255)\n"
      ],
      "execution_count": 54,
      "outputs": []
    },
    {
      "cell_type": "code",
      "metadata": {
        "id": "cy__o6yUiRgS"
      },
      "source": [
        "train_imgs=list(train_imgs_path.Img_Path.values)"
      ],
      "execution_count": 56,
      "outputs": []
    },
    {
      "cell_type": "code",
      "metadata": {
        "id": "eCVzNn5liRgT"
      },
      "source": [
        "valid_imgs=list(test_imgs_path.Img_Path.values)"
      ],
      "execution_count": 57,
      "outputs": []
    },
    {
      "cell_type": "code",
      "metadata": {
        "colab": {
          "base_uri": "https://localhost:8080/"
        },
        "id": "_swDaeHLiRgT",
        "outputId": "b991ac29-c78c-4993-d1e8-bc7ceef9e80c"
      },
      "source": [
        "train_generator = train_datagen.flow_from_directory(\n",
        "        os.path.join(PATH,'MURA-v1.1/train'),  # this is the target directory\n",
        "        target_size=IMG_SIZE,  # all images will be resized to 224*224\n",
        "        batch_size=batch_size,\n",
        "        class_mode='binary') "
      ],
      "execution_count": 58,
      "outputs": [
        {
          "output_type": "stream",
          "name": "stdout",
          "text": [
            "Found 36812 images belonging to 7 classes.\n"
          ]
        }
      ]
    },
    {
      "cell_type": "code",
      "metadata": {
        "colab": {
          "base_uri": "https://localhost:8080/"
        },
        "id": "wus3eX_miRgT",
        "outputId": "99b96bf0-2166-4a2b-9f41-db83e300126b"
      },
      "source": [
        "validation_generator = test_datagen.flow_from_directory(\n",
        "        os.path.join(PATH,'MURA-v1.1/valid'),\n",
        "        target_size=IMG_SIZE,\n",
        "        batch_size=batch_size,\n",
        "        class_mode='binary')"
      ],
      "execution_count": 59,
      "outputs": [
        {
          "output_type": "stream",
          "name": "stdout",
          "text": [
            "Found 3197 images belonging to 7 classes.\n"
          ]
        }
      ]
    },
    {
      "cell_type": "code",
      "metadata": {
        "id": "BYoaZqh6iRgT"
      },
      "source": [
        "model=VGG16(input_shape=(224,224,3),weights='imagenet',include_top=False)"
      ],
      "execution_count": 60,
      "outputs": []
    },
    {
      "cell_type": "code",
      "metadata": {
        "colab": {
          "base_uri": "https://localhost:8080/"
        },
        "id": "iPu-OswUiRgU",
        "outputId": "ebb8766d-3d49-4213-def0-8edd50f60a28"
      },
      "source": [
        "model.output_shape"
      ],
      "execution_count": 61,
      "outputs": [
        {
          "output_type": "execute_result",
          "data": {
            "text/plain": [
              "(None, 7, 7, 512)"
            ]
          },
          "metadata": {},
          "execution_count": 61
        }
      ]
    },
    {
      "cell_type": "code",
      "metadata": {
        "id": "qiHdWsgXiRgU"
      },
      "source": [
        "from keras.layers import  Convolution2D,MaxPooling2D,Dense,Flatten,Dropout\n",
        "from keras.models import  Sequential\n",
        "from tensorflow.keras.optimizers import Adam"
      ],
      "execution_count": 62,
      "outputs": []
    },
    {
      "cell_type": "code",
      "metadata": {
        "id": "y-l8L5OHiRgU"
      },
      "source": [
        "model1=Sequential()\n",
        "model1.add(model)\n",
        "model1.add(Flatten(input_shape=model.output_shape[1:]))\n",
        "model1.add(Dropout(0.5))\n",
        "#model1.add(Dense(128, activation='relu'))\n",
        "#model1.add(Dropout(0.5))\n",
        "model1.add(Dense(1, activation='softmax'))"
      ],
      "execution_count": 63,
      "outputs": []
    },
    {
      "cell_type": "code",
      "metadata": {
        "colab": {
          "base_uri": "https://localhost:8080/"
        },
        "id": "HuLc032uiRgU",
        "outputId": "988c1292-5241-4a27-d06d-36f4ba9a749e"
      },
      "source": [
        "model1.summary()"
      ],
      "execution_count": 64,
      "outputs": [
        {
          "output_type": "stream",
          "name": "stdout",
          "text": [
            "Model: \"sequential_1\"\n",
            "_________________________________________________________________\n",
            "Layer (type)                 Output Shape              Param #   \n",
            "=================================================================\n",
            "vgg16 (Functional)           (None, 7, 7, 512)         14714688  \n",
            "_________________________________________________________________\n",
            "flatten_1 (Flatten)          (None, 25088)             0         \n",
            "_________________________________________________________________\n",
            "dropout_1 (Dropout)          (None, 25088)             0         \n",
            "_________________________________________________________________\n",
            "dense_1 (Dense)              (None, 1)                 25089     \n",
            "=================================================================\n",
            "Total params: 14,739,777\n",
            "Trainable params: 14,739,777\n",
            "Non-trainable params: 0\n",
            "_________________________________________________________________\n"
          ]
        }
      ]
    },
    {
      "cell_type": "code",
      "metadata": {
        "id": "8i9ImKyDiRgV"
      },
      "source": [
        "for layer in model.layers:\n",
        "    layer.trainable=False"
      ],
      "execution_count": 65,
      "outputs": []
    },
    {
      "cell_type": "code",
      "metadata": {
        "id": "eOOXH94ZiRgV"
      },
      "source": [
        "model1.compile(loss='binary_crossentropy',\n",
        "              optimizer=Adam(lr=1e-3),\n",
        "              metrics=['accuracy'])"
      ],
      "execution_count": 66,
      "outputs": []
    },
    {
      "cell_type": "code",
      "metadata": {
        "id": "6gtLjDQDiRgS"
      },
      "source": [
        "batch_size=128\n",
        "import os"
      ],
      "execution_count": 71,
      "outputs": []
    },
    {
      "cell_type": "code",
      "metadata": {
        "colab": {
          "base_uri": "https://localhost:8080/"
        },
        "id": "XPJ61CeoiRgV",
        "outputId": "487d3d48-632d-4355-a60e-19fca3bbbb7f"
      },
      "source": [
        "model1.fit_generator(\n",
        "        train_generator,\n",
        "        steps_per_epoch=2000 // batch_size,\n",
        "        epochs=1,\n",
        "        validation_data=validation_generator,\n",
        "        validation_steps=800 // batch_size)"
      ],
      "execution_count": 67,
      "outputs": [
        {
          "output_type": "stream",
          "name": "stdout",
          "text": [
            "62/62 [==============================] - 1472s 24s/step - loss: -1616.6049 - accuracy: 0.1290 - val_loss: -317.0935 - val_accuracy: 0.1138\n"
          ]
        },
        {
          "output_type": "execute_result",
          "data": {
            "text/plain": [
              "<keras.callbacks.History at 0x7fec935efa50>"
            ]
          },
          "metadata": {},
          "execution_count": 67
        }
      ]
    },
    {
      "cell_type": "code",
      "metadata": {
        "colab": {
          "base_uri": "https://localhost:8080/"
        },
        "id": "18eqzQIHeeuD",
        "outputId": "b06972d5-8bdd-4937-b783-0285703bca80"
      },
      "source": [
        "model1.fit_generator(\n",
        "        train_generator,\n",
        "        steps_per_epoch=640 // batch_size,\n",
        "        epochs=1,\n",
        "        validation_data=validation_generator,\n",
        "        validation_steps=640 // batch_size)"
      ],
      "execution_count": 72,
      "outputs": [
        {
          "output_type": "stream",
          "name": "stdout",
          "text": [
            "5/5 [==============================] - 184s 39s/step - loss: -3666.8972 - accuracy: 0.1250 - val_loss: -284.2094 - val_accuracy: 0.1437\n"
          ]
        },
        {
          "output_type": "execute_result",
          "data": {
            "text/plain": [
              "<keras.callbacks.History at 0x7fec93424850>"
            ]
          },
          "metadata": {},
          "execution_count": 72
        }
      ]
    },
    {
      "cell_type": "code",
      "metadata": {
        "colab": {
          "base_uri": "https://localhost:8080/"
        },
        "id": "h6iVnBqKiRgW",
        "outputId": "2e9a1d86-d766-4ba4-c751-00972c06d31e"
      },
      "source": [
        " \n",
        " #Saving the model weights\n",
        "model.save(\"bonemodel1.h5\")\n",
        "print(\"Saved model to disk\")"
      ],
      "execution_count": 73,
      "outputs": [
        {
          "output_type": "stream",
          "name": "stdout",
          "text": [
            "WARNING:tensorflow:Compiled the loaded model, but the compiled metrics have yet to be built. `model.compile_metrics` will be empty until you train or evaluate the model.\n",
            "Saved model to disk\n"
          ]
        }
      ]
    }
  ]
}